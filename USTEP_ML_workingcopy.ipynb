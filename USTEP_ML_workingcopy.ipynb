{
  "nbformat": 4,
  "nbformat_minor": 0,
  "metadata": {
    "colab": {
      "name": "USTEP-ML-workingcopy.ipynb",
      "provenance": [],
      "collapsed_sections": []
    },
    "kernelspec": {
      "name": "python3",
      "display_name": "Python 3"
    }
  },
  "cells": [
    {
      "cell_type": "markdown",
      "metadata": {
        "id": "v2dZ9GGotTQs"
      },
      "source": [
        "# Machine Learning USTEP 2021\r\n",
        "### This python notebook uses a simple k-means algorithm\r\n",
        "### run the cells below DO NOT MODIFY THE CODE OR THE PROGRAM WON'T WORK \r\n",
        "## link to slides, the last slide has other machine learning models to explore!\r\n",
        "## https://drive.google.com/file/d/1-dACzzP4MhmEh_M7r9xoD54ypiGeggYc/view?usp=sharing"
      ]
    },
    {
      "cell_type": "code",
      "metadata": {
        "id": "QrK9aze4GoH6"
      },
      "source": [
        "#@title Load necessary libraries, don't edit this cell! { vertical-output: true, display-mode: \"form\" }\r\n",
        "%%capture\r\n",
        "!pip install numpy\r\n",
        "!pip install matplotlib\r\n",
        "\r\n",
        "\r\n",
        "\r\n"
      ],
      "execution_count": 1,
      "outputs": []
    },
    {
      "cell_type": "code",
      "metadata": {
        "colab": {
          "base_uri": "https://localhost:8080/"
        },
        "id": "v8obGrKPca7i",
        "outputId": "bdad32dc-7e41-4fe5-eb07-9324971766e5"
      },
      "source": [
        "#@title Load the dataset: Notify instructor if you have issues :D  { vertical-output: true, display-mode: \"form\" }\n",
        "try:\n",
        "  import numpy as np\n",
        "  import matplotlib.pyplot as plt\n",
        "  import random \n",
        "except ModuleNotFoundError:\n",
        "  print(\"imports not found, run the top cell again\")\n",
        "try: \n",
        "  def dataset_1():\n",
        "    random.seed(20)\n",
        "    red_groupX = []\n",
        "    red_groupY, red_groupZ = [], []\n",
        "    blue_groupX, blue_groupY, blue_groupZ= [], [],[]\n",
        "    for i in range(0, 50):\n",
        "      numX = random.randrange(20, 40)\n",
        "      numY = random.randrange(20, 40)\n",
        "      red_groupX.append(numX)\n",
        "      red_groupY.append(numY)\n",
        "      red_groupZ.append(1)\n",
        "      numX = random.randrange(1, 19)\n",
        "      numY = random.randrange(1, 19)\n",
        "      red_groupX.append(numX)\n",
        "      red_groupY.append(numY)\n",
        "      red_groupZ.append(0)\n",
        "    return [red_groupX, red_groupY]\n",
        "\n",
        "  def dataset_2():\n",
        "    random.seed(20)\n",
        "    red_groupX = []\n",
        "    red_groupY, red_groupZ = [], []\n",
        "    blue_groupX, blue_groupY, blue_groupZ= [], [],[]\n",
        "    for i in range(0, 50):\n",
        "      numX = random.uniform(23, 39,)\n",
        "      numY = random.uniform(25, 41)\n",
        "      red_groupX.append(numX)\n",
        "      red_groupY.append(numY)\n",
        "      numX = random.uniform(1, 5)\n",
        "      numY = random.uniform(2, 6)\n",
        "      red_groupX.append(numX)\n",
        "      red_groupY.append(numY)\n",
        "      numX = random.uniform(10, 17)\n",
        "      numY = random.uniform(10, 14)\n",
        "      red_groupX.append(numX)\n",
        "      red_groupY.append(numY)\n",
        "      ##noise data\n",
        "    for i in range(0, 20):\n",
        "      numX = random.uniform(0, 40)\n",
        "      numY = random.uniform(0, 40)\n",
        "      red_groupX.append(numX)\n",
        "      red_groupY.append(numY)\n",
        "\n",
        "    return [red_groupX, red_groupY]\n",
        "  datasets = [np.column_stack(dataset_1()),np.column_stack(dataset_2()), np.column_stack(dataset_1())]\n",
        "  print(\"data sets loaded!\")\n",
        "except ModuleNotFoundError:\n",
        "  print(\" Datasets did not load\")"
      ],
      "execution_count": 2,
      "outputs": [
        {
          "output_type": "stream",
          "text": [
            "data sets loaded!\n"
          ],
          "name": "stdout"
        }
      ]
    },
    {
      "cell_type": "code",
      "metadata": {
        "id": "k1NRygxf_jW4"
      },
      "source": [
        "#@title K-means algorithmn (don't edit this code or your algorithmn might not work!) { display-mode: \"form\" }\n",
        "class k_means():\n",
        "  def __init__(self, data, k_points, iterations, learning_rate,r_seed):\n",
        "    self.data = data\n",
        "    self.learning_rate = learning_rate\n",
        "    self.k_points = k_points\n",
        "    self.iterations = iterations\n",
        "    self.error = 0\n",
        "    self.error_list = []\n",
        "    self.current_guess = []\n",
        "    self.intial_guess = []\n",
        "    self.r_seed = r_seed\n",
        "  def make_guess( self):\n",
        "      ## return random guess of points \n",
        "    random.seed(self.r_seed)  \n",
        "    for i in range(0,self.k_points):\n",
        "      y = random.randint(0, max(self.data[:,1])-3)\n",
        "      x = random.randint(0, max(self.data[:,1])-3)\n",
        "      self.intial_guess.append([x,y])\n",
        "\n",
        "    x = self.intial_guess\n",
        "    self.current_guess = x\n",
        "    return self.intial_guess\n",
        "\n",
        "  def compute_error(self):\n",
        "    #for each point of data decide closest point\n",
        "    k_clusters_error = [0]*len(self.current_guess)\n",
        "    k_membership = [0] *len(self.current_guess)\n",
        "    for i in self.data:\n",
        "      distance = []\n",
        "      for j in self.current_guess:\n",
        "        d = ((np.array(i)).ravel()-(np.array(j)).ravel())\n",
        "        d = np.dot(d, d)\n",
        "        distance.append(d)\n",
        "        \n",
        "      self.error+= min(distance)\n",
        "    self.error = self.error/len(self.data)\n",
        "    return(self.error)\n",
        "\n",
        "\n",
        "  def update_guess(self):\n",
        "    for i in range(0, len(self.current_guess)):\n",
        "      self.current_guess[i] = self.current_guess[i] - (self.learning_rate*self.error)\n",
        "    return self.current_guess\n",
        "\n",
        "  def make_graph(self):\n",
        "    data1 = np.array(self.data)\n",
        "    data2 = np.array(self.data)\n",
        "    predictions1 = np.array(self.intial_guess)\n",
        "    predictions2 = np.array(self.current_guess)\n",
        "\n",
        "    fig, axs = plt.subplots(2)\n",
        "    fig.suptitle('Top plot is intial guess, bottom plot is final prediction')\n",
        "    axs[0].scatter(data1[:,0], data1[:,1], c = \"blue\", marker = \".\")\n",
        "    axs[0].scatter(predictions1[:,0], predictions1[:,1], c = \"red\", marker=\"*\")\n",
        "    axs[0].set_xlim(min(data1[:,0])-10, max(data1[:,0])+10)\n",
        "    axs[0].set_ylim(min(data1[:,1])-10, max(data1[:,1])+10)\n",
        "    \n",
        "    axs[1].scatter(data2[:,0], data2[:,1], c = \"blue\", marker = \".\")\n",
        "    axs[1].scatter(predictions2[:,0], predictions2[:,1], c = \"red\", marker=\"*\")\n",
        "    axs[1].set_xlim(min(data1[:,0])-10, max(data1[:,0]))\n",
        "    axs[1].set_ylim(min(data1[:,1])-10, max(data1[:,1]))\n",
        "    return plt.show()\n",
        "\n",
        "  def show_loss(self):\n",
        "    x = np.linspace(0, len(self.error_list), len(self.error_list))\n",
        "    plt.scatter(x, self.error_list)\n",
        "    plt.title(\"loss vs. iteration\")\n",
        "    plt.show()\n",
        "  def make_prediction(model_points, values):\n",
        "    #returns the prediction of of the points. \n",
        "    return 1\n",
        "\n",
        "  def fit_model(self):\n",
        "    e = 0\n",
        "    self.current_guess = self.make_guess()\n",
        "    for i in range(self.iterations):\n",
        "      m_error = self.compute_error()\n",
        "      self.current_guess = self.update_guess()\n",
        "      self.error_list.append(m_error)\n",
        "    self.show_loss()\n",
        "    self.make_graph()\n",
        "    \n",
        "    return"
      ],
      "execution_count": 3,
      "outputs": []
    },
    {
      "cell_type": "code",
      "metadata": {
        "id": "CX9VHymtJWkC",
        "colab": {
          "base_uri": "https://localhost:8080/",
          "height": 650
        },
        "outputId": "84c6f504-f629-4380-9add-29f776fb76f5"
      },
      "source": [
        "#@title Run this cell to run your algorithm { vertical-output: true, display-mode: \"form\" }\n",
        "#inputs\n",
        "try:\n",
        "  learning_rate = float(input(\"Enter learning rate (input should be a decimal such as 0.001) \"))\n",
        "  number_of_repeats = int(input(\"Enter number of iterations (input should be an integer such as 100) \"))\n",
        "  number_of_points = int(input(\"Enter number of cluster (input should be an integer such as 2) \"))\n",
        "  random_seed = int(input(\"Enter random seed for reproducable results  \"))\n",
        "  data_set_num = int(input(\"Enter data set number (1, 2, or 3)  \"))//3\n",
        "  \n",
        "  datasets = [np.column_stack(dataset_1()),np.column_stack(dataset_2()), np.column_stack(dataset_1())]\n",
        "  x =datasets[data_set_num]\n",
        "# make the model\n",
        "  model = k_means(np.column_stack(dataset_1()),number_of_points, number_of_repeats, learning_rate, random_seed)\n",
        "  ## fit the model will print out graphs as well\n",
        "  model.fit_model()\n",
        "#throw exception if invalid input\n",
        "except ValueError:\n",
        "  print(\" invalid input, rerun cell and make sure you your input are numbers!\")\n",
        "\n",
        "\n",
        "\n"
      ],
      "execution_count": 4,
      "outputs": [
        {
          "output_type": "stream",
          "text": [
            "Enter learning rate (input should be a decimal such as 0.001) 0.01\n",
            "Enter number of iterations (input should be an integer such as 100) 100\n",
            "Enter number of cluster (input should be an integer such as 2) 2\n",
            "Enter random seed for reproducable results  2\n",
            "Enter data set number (1, 2, or 3)  2\n"
          ],
          "name": "stdout"
        },
        {
          "output_type": "display_data",
          "data": {
            "image/png": "[encoded data removed]",
            "text/plain": [
              "<Figure size 432x288 with 1 Axes>"
            ]
          },
          "metadata": {
            "tags": [],
            "needs_background": "light"
          }
        },
        {
          "output_type": "display_data",
          "data": {
            "image/png": "[encoded data removed]",
            "text/plain": [
              "<Figure size 432x288 with 2 Axes>"
            ]
          },
          "metadata": {
            "tags": [],
            "needs_background": "light"
          }
        }
      ]
    },
    {
      "cell_type": "code",
      "metadata": {
        "id": "3JlfOIz8Zx-8"
      },
      "source": [
        ""
      ],
      "execution_count": 4,
      "outputs": []
    }
  ]
}